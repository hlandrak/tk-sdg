{
 "cells": [
  {
   "cell_type": "code",
   "execution_count": null,
   "metadata": {},
   "outputs": [],
   "source": [
    "from random import randint as rI\n",
    "def helloWorldMultiple(max=5):\n",
    "    #The function will print \"Hello, world!\" a random amount of times from 0, to input value\n",
    "    for i in range(rI(max)):\n",
    "        print(\"Hello, world!\")\n",
    "        "
   ]
  }
 ],
 "metadata": {
  "language_info": {
   "name": "python"
  },
  "orig_nbformat": 4
 },
 "nbformat": 4,
 "nbformat_minor": 2
}
