{
 "cells": [
  {
   "cell_type": "markdown",
   "metadata": {},
   "source": [
    "# Basic imports"
   ]
  },
  {
   "cell_type": "code",
   "execution_count": null,
   "metadata": {},
   "outputs": [],
   "source": [
    "import re\n",
    "import pdfplumber\n",
    "from spacy.lang.nb import Norwegian\n",
    "import spacy\n",
    "import numpy as np"
   ]
  },
  {
   "cell_type": "code",
   "execution_count": null,
   "metadata": {},
   "outputs": [],
   "source": [
    "# Variables\n",
    "names = [\"Regional planstrategi\", \n",
    "    \"Kommunens kirkepolitikk\", \n",
    "    \"Kommuneplan for smabathavner\", \n",
    "    \"Strategiplan kultur\", \n",
    "    \"Havbruk\", \n",
    "    \"Temaplan for arbeid mot fattigdom\", \n",
    "    \"Barnefattigdom\", \n",
    "    \"Psykisk helse og rus plan\"]\n",
    "\n",
    "sdgNames = {\n",
    "    1: \"Utrydde fattigdom\",\n",
    "    2: \"Utrydde sult\",\n",
    "    3: \"God helse og livskvalitet\",\n",
    "    4: \"God utdanning\",\n",
    "    5: \"Likestilling mellom kjønnene\",\n",
    "    6: \"Rent vann og sanitærforhold\",\n",
    "    7: \"Ren energi til alle\",\n",
    "    8: \"Anstendig arbeid og økonomisk vekst\",\n",
    "    9: \"Industri, innovasjon og infrastruktur\",\n",
    "    10: \"Mindre ulikhet\",\n",
    "    11: \"Bærekraftige byer og lokalsamfunn\",\n",
    "    12: \"Ansvarlig forbruk og produksjon\",\n",
    "    13: \"Stoppe klimaendringene\",\n",
    "    14: \"Livet i havet\",\n",
    "    15: \"Livet på land\",\n",
    "    16: \"Fred, rettferdighet og velfungerende institusjoner\",\n",
    "    17: \"Samarbeid for å nå målene\",\n",
    "}\n",
    "\n",
    "sdgColor = {\n",
    "    1: \"e5233a\",\n",
    "    2: \"dda63a\",\n",
    "    3: \"4b9f38\",\n",
    "    4: \"c5182c\",\n",
    "    5: \"ff3920\",\n",
    "    6: \"25bde2\",\n",
    "    7: \"fcc30b\",\n",
    "    8: \"a21941\",\n",
    "    9: \"fd6824\",\n",
    "    10: \"dd1367\",\n",
    "    11: \"fd9d23\",\n",
    "    12: \"bf8b2d\",\n",
    "    13: \"407e44\",\n",
    "    14: \"0a97d9\",\n",
    "    15: \"56c02b\",\n",
    "    16: \"00689d\",\n",
    "    17: \"184769\",\n",
    "}\n"
   ]
  },
  {
   "cell_type": "markdown",
   "metadata": {},
   "source": [
    "# Helper functions"
   ]
  },
  {
   "cell_type": "code",
   "execution_count": null,
   "metadata": {},
   "outputs": [],
   "source": [
    "def pdfToText(fileName, name):\n",
    "    \"\"\"\n",
    "    Create string from pdf and save as .txt file if file doesn't exist. Returns string.\n",
    "    \"\"\"\n",
    "    all_text = \"\"\n",
    "    with pdfplumber.open(fileName) as pdf:\n",
    "        for page in pdf.pages:\n",
    "            all_text += page.extract_text()\n",
    "    # print(all_text)\n",
    "    all_text = re.sub('\\s', ' ', all_text)\n",
    "    # print(all_text)\n",
    "    with open(f\"txt/{name}.txt\", \"w\") as f:\n",
    "        f.write(all_text)\n",
    "    if not name in names:\n",
    "        names.append(name)\n",
    "    return all_text"
   ]
  },
  {
   "cell_type": "code",
   "execution_count": null,
   "metadata": {},
   "outputs": [],
   "source": [
    "def pdfToTextPages(fileName, name):\n",
    "    \"\"\"\n",
    "    Create list of strings from pdf. Each string is the text on 1 page in the pdf. Return list.\n",
    "    \"\"\"\n",
    "    textList = []\n",
    "    with pdfplumber.open(fileName) as pdf:\n",
    "        for page in pdf.pages:\n",
    "            textPage = page.extract_text()\n",
    "            textPage = re.sub('\\s', ' ', textPage)\n",
    "            textList.append(textPage)\n",
    "    # TODO implement saving of list of str to .txt and function for loading .txt to list of str\n",
    "    \n",
    "    # print(all_text)\n",
    "    # with open(f\"txt/{name}.txt\", \"w\") as f:\n",
    "    #     f.write(all_text)\n",
    "    # if not name in names:\n",
    "    #     names.append(name)\n",
    "    return textList"
   ]
  },
  {
   "cell_type": "code",
   "execution_count": null,
   "metadata": {},
   "outputs": [],
   "source": [
    "def txtToStr(filename):\n",
    "    \"\"\"\n",
    "    Read .txt file into string and return string.\n",
    "    \"\"\"\n",
    "    f = open(filename, 'r')\n",
    "    textLines = f.readlines()\n",
    "    text = \"\"\n",
    "    for line in textLines:\n",
    "        text += line\n",
    "    text = re.sub('\\s', ' ', text)\n",
    "    return text"
   ]
  },
  {
   "cell_type": "markdown",
   "metadata": {},
   "source": [
    "# Scraping\n",
    "\n",
    "No need to run if \"sdg#.txt\" in \"sdgs\" folder is present."
   ]
  },
  {
   "cell_type": "code",
   "execution_count": null,
   "metadata": {},
   "outputs": [],
   "source": [
    "# Scraping imports and inits\n",
    "from selenium import webdriver\n",
    "from webdriver_manager.chrome import ChromeDriverManager\n",
    "driver = webdriver.Chrome(ChromeDriverManager().install())\n",
    "from bs4 import BeautifulSoup as BS"
   ]
  },
  {
   "cell_type": "code",
   "execution_count": null,
   "metadata": {},
   "outputs": [],
   "source": [
    "# Scraping sdgs from FN.\n",
    "sdgs = []\n",
    "driver.get(\"https://www.fn.no/om-fn/fns-baerekraftsmaal\")\n",
    "soup = BS(driver.page_source, features=\"html.parser\")\n",
    "title_cards = soup.find_all(class_=\"header_gols_content_item\")\n",
    "for card in title_cards:\n",
    "    a = card.find(\"a\", href=True)\n",
    "    sdgs.append(a[\"href\"])\n",
    "print(sdgs)\n",
    "i = 1\n",
    "for sdg in sdgs:\n",
    "    driver.get(f\"https://www.fn.no/{sdg}\")\n",
    "    soup = BS(driver.page_source, features=\"html.parser\")\n",
    "    paragraphs = soup.find_all(\"p\")\n",
    "    f = open(f'sdgs/sdg{i}.txt', 'w')\n",
    "    for par in paragraphs:\n",
    "        line = par.text.strip()\n",
    "        line = line.replace('...', '')\n",
    "        line = line.replace('&aelig;', 'æ')\n",
    "        if len(line) > 0:\n",
    "            if not line[-1] in \".?!:)\":\n",
    "                line += '.'\n",
    "            f.write(f'{line}\\n')\n",
    "    f.close()\n",
    "    i += 1"
   ]
  },
  {
   "cell_type": "markdown",
   "metadata": {},
   "source": [
    "# PDF scraping\n",
    "Make pdfs as .txt in /txt folder"
   ]
  },
  {
   "cell_type": "code",
   "execution_count": null,
   "metadata": {},
   "outputs": [],
   "source": [
    "regPlan = pdfToText('pdfs/regional-planstrategi-2016-2010.pdf', \"Regional planstrategi\")\n",
    "kirkepol = pdfToText('pdfs/050200-sak-kommunens-kirkepolitikk.pdf', \"Kommunens kirkepolitikk\")\n",
    "smabathavn = pdfToText('pdfs/kommunedelplan-for-smabathavner-2007-2017.pdf', \"Kommuneplan for smabathavner\")\n",
    "kultur = pdfToText('pdfs/strategiplan-kultur-web.pdf', \"Strategiplan kultur\")\n",
    "havbruk = pdfToText(\"pdfs/havbruk.pdf\", \"Havbruk\")\n",
    "fattigdomGammel = pdfToText(\"pdfs/temaplan-for-arbeid-mot-fattigdom.pdf\", \"Temaplan for arbeid mot fattigdom\")\n",
    "kvalKlubb = pdfToText(\"pdfs/bettinak,+{$userGroup},+R-18-2-SAM.pdf\", \"Barnefattigdom\")\n",
    "psykiskHelse = pdfToText(\"pdfs/psykiskhelseogrusplan.pdf\", \"Psykisk helse og rus plan\")"
   ]
  },
  {
   "cell_type": "markdown",
   "metadata": {},
   "source": [
    "# Wiki scraping"
   ]
  },
  {
   "cell_type": "code",
   "execution_count": null,
   "metadata": {},
   "outputs": [],
   "source": [
    "import wikiscraper as ws\n",
    "ws.lang(\"no\")\n",
    "abstractList = []\n",
    "with open(\"randWiki.txt\", \"a\") as file:\n",
    "    for i in range(1000):\n",
    "        result = ws.searchBySlug(\"Spesial:Tilfeldig\")\n",
    "        try:\n",
    "            abstractList = result.getAbstract()\n",
    "            for par in abstractList:\n",
    "                if not \"[rediger | rediger kilde]\" in par:\n",
    "                    file.write(par + \"\\n\")\n",
    "        except:\n",
    "            pass"
   ]
  },
  {
   "cell_type": "markdown",
   "metadata": {},
   "source": [
    "# Similarity (old method)"
   ]
  },
  {
   "cell_type": "code",
   "execution_count": null,
   "metadata": {},
   "outputs": [],
   "source": [
    "def similarityText(mainStr, searchStr):\n",
    "    \"\"\"\n",
    "    Return spacy similatiry based on vector in nb_core_news_lg.\n",
    "    \"\"\"\n",
    "    nlp = spacy.load(\"nb_core_news_lg\")\n",
    "\n",
    "    mainDoc = nlp(mainStr)\n",
    "    searchDoc = nlp(searchStr)\n",
    "\n",
    "    mainTokenized = nlp(' '.join([str(token.lemma_) for token in mainDoc if not token.is_stop and not token.is_punct and not token.is_space]))\n",
    "    searchTokenized = nlp(' '.join([str(token.lemma_) for token in searchDoc if not token.is_stop and not token.is_punct and not token.is_space]))\n",
    "    # print(mainTokenized)\n",
    "    # print(searchTokenized)\n",
    "    return mainTokenized.similarity(searchTokenized)"
   ]
  },
  {
   "cell_type": "code",
   "execution_count": null,
   "metadata": {},
   "outputs": [],
   "source": [
    "def sdgSimilatiry(string):\n",
    "    \"\"\"\n",
    "    Print and return similarity of string to all SDGs.\n",
    "    \"\"\"\n",
    "    valueList = []\n",
    "    for sdg in range(17):\n",
    "        value = similarityText(string, txtToStr(f\"sdgs/sdg{sdg+1}.txt\"))\n",
    "        print(f\"SDG #{sdg+1} has this similarity to your string: {value}\")\n",
    "        valueList.append(value)\n",
    "    return valueList"
   ]
  },
  {
   "cell_type": "code",
   "execution_count": null,
   "metadata": {},
   "outputs": [],
   "source": [
    "def addSdgVector(str, name):\n",
    "    \"\"\"\n",
    "    Add similarity results to sdgVector.\n",
    "    \"\"\"\n",
    "    return sdgSimilatiry(str)"
   ]
  },
  {
   "cell_type": "markdown",
   "metadata": {},
   "source": [
    "# Predicting"
   ]
  },
  {
   "cell_type": "code",
   "execution_count": null,
   "metadata": {},
   "outputs": [],
   "source": [
    "# for documentation see: https://www.kaggle.com/satishgunjal/tutorial-text-classification-using-spacy\n",
    "import string\n",
    "nlp = spacy.load(\"nb_core_news_lg\")\n",
    "parser = Norwegian()\n",
    "punctuations = string.punctuation\n",
    "stop_words = spacy.lang.nb.stop_words.STOP_WORDS\n",
    "def spacy_tokenizer(sentence):\n",
    "    \"\"\"This function will accepts a sentence as input and processes the sentence into tokens, performing lemmatization, \n",
    "    lowercasing, removing stop words and punctuations.\"\"\"\n",
    "    \n",
    "    # Creating our token object which is used to create documents with linguistic annotations\n",
    "    mytokens = nlp(sentence)\n",
    "    \n",
    "    # lemmatizing each token and converting each token in lower case\n",
    "    # Note that spaCy uses '-PRON-' as lemma for all personal pronouns lkike me, I etc\n",
    "    mytokens = [ word.lemma_.lower().strip() if word.lemma_ != \"-PRON-\" else word.lower_ for word in mytokens ]\n",
    "    \n",
    "    # Removing stop words\n",
    "    mytokens = [ word for word in mytokens if word not in stop_words and word not in punctuations]\n",
    "    # Return preprocessed list of tokens\n",
    "    return mytokens"
   ]
  },
  {
   "cell_type": "code",
   "execution_count": null,
   "metadata": {},
   "outputs": [],
   "source": [
    "from sklearn.base import TransformerMixin\n",
    "from sklearn.pipeline import Pipeline\n",
    "\n",
    "class predictors(TransformerMixin):\n",
    "    def transform(self, X, **transform_params):\n",
    "        \"\"\"Override the transform method to clean text\"\"\"\n",
    "        return [clean_text(text) for text in X]\n",
    "    \n",
    "    def fit(self, X, y= None, **fit_params):\n",
    "        return self\n",
    "    \n",
    "    def get_params(self, deep= True):\n",
    "        return {}\n",
    "\n",
    "# Basic function to clean the text\n",
    "def clean_text(text):\n",
    "    \"\"\"Removing spaces and converting the text into lowercase\"\"\"\n",
    "    return text.strip().lower()"
   ]
  },
  {
   "cell_type": "markdown",
   "metadata": {},
   "source": [
    "## Trainingdata"
   ]
  },
  {
   "cell_type": "code",
   "execution_count": null,
   "metadata": {},
   "outputs": [],
   "source": [
    "\"\"\"\n",
    "Creating trainingdata for classifying SDGs with UN data. Tagged 1-17 for what # sdg it is related to.\n",
    "\"\"\"\n",
    "X_train = []\n",
    "y_train = []\n",
    "for i in range(17):\n",
    "    f = open(f'sdgs/sdg{i+1}.txt')\n",
    "    for line in f:\n",
    "        line = re.sub('\\s', ' ', line)\n",
    "        X_train.append(line)\n",
    "        y_train.append(i+1)\n",
    "\n",
    "\"\"\"\n",
    "Creating traingdata for boolean classifying with random wiki corpus. Tagged 0 for sdg relation and 1 for wiki.\n",
    "\"\"\"\n",
    "\n",
    "X_train2 = []\n",
    "y_train2 = []\n",
    "for i in range(17):\n",
    "    with open(f'sdgs/sdg{i+1}.txt', 'r') as f:\n",
    "        for line in f:\n",
    "            line = re.sub('\\s', ' ', line)\n",
    "            X_train2.append(line)\n",
    "            y_train2.append(0)\n",
    "\n",
    "with open('txt/randWiki.txt', 'r') as f:\n",
    "    for line in f:\n",
    "        line = re.sub('\\s', ' ', line)\n",
    "        X_train2.append(line)\n",
    "        y_train2.append(1)\n",
    "\n",
    "\"\"\"\n",
    "Creating traingdata for boolean classifying with NoReC corpus. Tagged 0 for sdg relation and 1 for wiki.\n",
    "\"\"\"\n",
    "import os\n",
    "import glob\n",
    "\n",
    "path = 'dev-kopi/'\n",
    "X_train3 = []\n",
    "y_train3 = []\n",
    "stop = 0\n",
    "for filename in glob.glob(os.path.join(path, '*.txt')): # open all .txt files in \"dev-kopi\" folder.\n",
    "   with open(os.path.join(os.getcwd(), filename), 'r') as f:\n",
    "      if stop < 10000: # stop at 10000 for testing purposes. 133000 lines in total, but takes very long to train.\n",
    "         for line in f:\n",
    "            line = re.sub('\\s', ' ', line)\n",
    "            if len(line) != 1:\n",
    "               X_train3.append(line)\n",
    "               y_train3.append(1)\n",
    "               stop += 1\n",
    "\n",
    "for i in range(17):\n",
    "    with open(f'sdgs/sdg{i+1}.txt', 'r') as f:\n",
    "        for line in f:\n",
    "            line = re.sub('\\s', ' ', line)\n",
    "            X_train3.append(line)\n",
    "            y_train3.append(0)"
   ]
  },
  {
   "cell_type": "code",
   "execution_count": null,
   "metadata": {},
   "outputs": [],
   "source": [
    "from sklearn.linear_model import LogisticRegression  \n",
    "from sklearn.feature_extraction.text import TfidfVectorizer\n",
    "\n",
    "def createPipe(trainingData):\n",
    "    \"\"\" \n",
    "    Create pipeline using Tf-idf. Returns pipeline trained on trainingdata\n",
    "    \"\"\"\n",
    "    pipe = Pipeline ([(\"cleaner\", predictors()),\n",
    "                 (\"vectorizer\", TfidfVectorizer(tokenizer=spacy_tokenizer)),\n",
    "                 (\"classifier\", LogisticRegression(multi_class='ovr', solver='liblinear'))])\n",
    "    pipe.fit(trainingData[0], trainingData[1])\n",
    "    return pipe\n",
    "\n",
    "pipeIndividual = createPipe([X_train, y_train])\n",
    "# pipeBoolean = createPipe([X_train2, y_train2])"
   ]
  },
  {
   "cell_type": "code",
   "execution_count": null,
   "metadata": {},
   "outputs": [],
   "source": [
    "pipeBooleanNew = createPipe([X_train3, y_train3])"
   ]
  },
  {
   "cell_type": "code",
   "execution_count": null,
   "metadata": {},
   "outputs": [],
   "source": [
    "def tfidfModel(testData, pipe):\n",
    "    \"\"\"\n",
    "    Return predicted probabilities for Pipeline (pipe).\n",
    "    \"\"\"\n",
    "\n",
    "    predicted = pipe.predict_proba(testData)\n",
    "    return predicted"
   ]
  },
  {
   "cell_type": "markdown",
   "metadata": {},
   "source": [
    "# Plotting"
   ]
  },
  {
   "cell_type": "code",
   "execution_count": null,
   "metadata": {},
   "outputs": [],
   "source": [
    "import matplotlib.pyplot as plt\n",
    "\n",
    "def sdgList(predictions, threshold=0.75):\n",
    "    \"\"\"\n",
    "    Returns predicted probabilities for all SDG's as a list, adjusted for given threshold. Values above 1 is returned as 1\n",
    "    \"\"\"\n",
    "    sdgTrue = len(predictions)*[0]\n",
    "    for i in range(len(predictions)):\n",
    "        if predictions[i] > 1:\n",
    "            sdgTrue[i] = 1\n",
    "        elif predictions[i] - threshold > 0:\n",
    "            sdgTrue[i] = (predictions[i] - threshold) / (1 - threshold)\n",
    "        else:\n",
    "            sdgTrue[i] = 0\n",
    "    return sdgTrue\n"
   ]
  },
  {
   "cell_type": "code",
   "execution_count": null,
   "metadata": {},
   "outputs": [],
   "source": [
    "def probabilityCombine(bool, individual, numSdg = 17):\n",
    "    \"\"\"\n",
    "    Returnes combined boolean and individual predictions.\n",
    "    \"\"\"\n",
    "    mult = individual * numSdg\n",
    "    for i in range(len(mult)):\n",
    "        mult[i] *= bool[i][0]\n",
    "    return mult\n",
    "\n",
    "\n",
    "def plotTestTextPredictions(testText, names = None, threshold = 0.75):\n",
    "    \"\"\"\n",
    "    Plots predictions for a given string to be related to each sdg # (1-17)\n",
    "    \"\"\"\n",
    "    barekraftBool = tfidfModel(testText, pipeBooleanNew)\n",
    "    # print(barekraftBool)\n",
    "    # barekraftBoolOld = tfidfModel(testText, pipeBoolean)\n",
    "    # print(barekraftBoolOld)\n",
    "    sdgPredictions = tfidfModel(testText, pipeIndividual)\n",
    "    # print(sdgPredictions)\n",
    "\n",
    "    sdgPredictionsMult = probabilityCombine(barekraftBool, sdgPredictions)\n",
    "\n",
    "    sdgNames = []\n",
    "    for i in range(17):\n",
    "        sdgNames.append(i+1)\n",
    "    num = 0\n",
    "    for doku in sdgPredictionsMult:\n",
    "        plt.figure()\n",
    "        if names:\n",
    "            plt.title(names[num])\n",
    "        plt.ylim([0,1])\n",
    "        plt.bar(sdgNames, sdgList(doku, threshold), 0.7)\n",
    "        plt.xlabel(\"Bærekraftsmål\")\n",
    "        plt.ylabel(\"Sannsynlighet\")\n",
    "        plt.xticks(sdgNames)\n",
    "        plt.show()\n",
    "        num += 1"
   ]
  },
  {
   "cell_type": "code",
   "execution_count": null,
   "metadata": {},
   "outputs": [],
   "source": [
    "def plotTestTextPredictionsNew(testText, names = None, threshold = 0.75):\n",
    "    \"\"\"\n",
    "    Plots predictions for a given string to be related to each sdg # (1-17)\n",
    "    \"\"\"\n",
    "    barekraftBool = tfidfModel(testText, pipeBooleanNew)\n",
    "    # print(barekraftBool)\n",
    "    # barekraftBoolOld = tfidfModel(testText, pipeBoolean)\n",
    "    # print(barekraftBoolOld)\n",
    "    sdgPredictions = tfidfModel(testText, pipeIndividual)\n",
    "    # print(sdgPredictions)\n",
    "\n",
    "    sdgPredictionsMult = probabilityCombine(barekraftBool, sdgPredictions)\n",
    "    valueArray = np.transpose(np.array(sdgPredictionsMult))\n",
    "\n",
    "    sdgNums = list(range(1,18))\n",
    "    pages = list(range(1, np.size(valueArray, 1)+1))\n",
    "    # plt.figure(figsize=(10,10))\n",
    "    figure, axis = plt.subplots(17, 1, figsize=(10,17))\n",
    "    for i in range(17):\n",
    "        sdgValues = valueArray[i]\n",
    "        \n",
    "        # plt.title(sdgNames.get(i+1))\n",
    "        axis[i].bar(pages,sdgList(sdgValues), 1, color=(\"#\"+sdgColor.get(i+1)))\n",
    "        axis[i].text(0.5,0.8, f'BKM {i+1}: {sdgNames.get(i+1)}', horizontalalignment='center', transform = axis[i].transAxes)\n",
    "        axis[i].set_ylim([0,1])\n",
    "        axis[i].set_xlim([1, np.size(sdgValues, 0)])\n",
    "        axis[i].set_yticks([])\n",
    "        if i != 16:\n",
    "            axis[i].set_xticks([])\n",
    "        \n",
    "    plt.subplots_adjust(hspace=0)\n",
    "    plt.show()\n",
    "\n",
    "    for i in range(np.size(valueArray, 0)):\n",
    "        valueArray[i] = sdgList(valueArray[i])\n",
    "    num = 0\n",
    "\n",
    "    # for doku in sdgPredictionsMult:\n",
    "    #     plt.figure()\n",
    "    #     if names:\n",
    "    #         plt.title(names[num])\n",
    "    #     plt.ylim([0,1])\n",
    "    #     plt.bar(sdgNames, sdgList(doku, threshold), 0.7)\n",
    "    #     plt.xlabel(\"Bærekraftsmål\")\n",
    "    #     plt.ylabel(\"Sannsynlighet\")\n",
    "    #     plt.xticks(sdgNames)\n",
    "    #     plt.show()\n",
    "    #     num += 1"
   ]
  },
  {
   "cell_type": "markdown",
   "metadata": {},
   "source": [
    "# Testing"
   ]
  },
  {
   "cell_type": "code",
   "execution_count": null,
   "metadata": {},
   "outputs": [],
   "source": [
    "barekraft = txtToStr(\"txt/barekraftSNL.txt\")\n",
    "store = txtToStr(\"txt/store.txt\")"
   ]
  },
  {
   "cell_type": "code",
   "execution_count": null,
   "metadata": {},
   "outputs": [],
   "source": [
    "print(names)"
   ]
  },
  {
   "cell_type": "code",
   "execution_count": null,
   "metadata": {},
   "outputs": [],
   "source": [
    "skisse = pdfToText(\"pdfs/Skisse ny kommuneplanens samfunnsdel 2020-2032 - hoveddokument.pdf\", \"skisse\")"
   ]
  },
  {
   "cell_type": "code",
   "execution_count": null,
   "metadata": {},
   "outputs": [],
   "source": [
    "plotTestTextPredictions([skisse], [\"Testdokument TK\"])"
   ]
  },
  {
   "cell_type": "code",
   "execution_count": null,
   "metadata": {},
   "outputs": [],
   "source": [
    "klima = pdfToText(\"pdfs/m443.pdf\", \"Klima\")\n",
    "plotTestTextPredictions([klima], [\"Klima\"])"
   ]
  },
  {
   "cell_type": "code",
   "execution_count": null,
   "metadata": {},
   "outputs": [],
   "source": [
    "X_test = []\n",
    "for name in names:\n",
    "    X_test.append(txtToStr(\"txt/\"+name+\".txt\"))\n",
    "plotTestTextPredictions(X_test, names)\n",
    "# plotTestTextPredictions([barekraft])"
   ]
  },
  {
   "cell_type": "code",
   "execution_count": null,
   "metadata": {},
   "outputs": [],
   "source": [
    "regPlanSider = pdfToTextPages(\"pdfs/psykiskhelseogrusplan.pdf\", \"idk\")\n"
   ]
  },
  {
   "cell_type": "code",
   "execution_count": null,
   "metadata": {},
   "outputs": [],
   "source": [
    "skisseSider = pdfToTextPages(\"pdfs/Skisse ny kommuneplanens samfunnsdel 2020-2032 - hoveddokument.pdf\", \"ny\")\n",
    "sider = list(range(1,len(skisseSider)+1))\n"
   ]
  },
  {
   "cell_type": "code",
   "execution_count": 133,
   "metadata": {},
   "outputs": [
    {
     "data": {
      "image/png": "[encoded data removed]",
      "text/plain": [
       "<Figure size 720x1224 with 17 Axes>"
      ]
     },
     "metadata": {
      "needs_background": "light"
     },
     "output_type": "display_data"
    }
   ],
   "source": [
    "plotTestTextPredictionsNew(regPlanSider, sider, 0.5)"
   ]
  },
  {
   "cell_type": "code",
   "execution_count": null,
   "metadata": {},
   "outputs": [],
   "source": [
    "sider = list(range(1,len(regPlanSider)+1))\n",
    "plotTestTextPredictionsNew(regPlanSider, sider, 0.5)"
   ]
  }
 ],
 "metadata": {
  "interpreter": {
   "hash": "aee8b7b246df8f9039afb4144a1f6fd8d2ca17a180786b69acc140d282b71a49"
  },
  "kernelspec": {
   "display_name": "Python 3.7.4 64-bit",
   "language": "python",
   "name": "python3"
  },
  "language_info": {
   "codemirror_mode": {
    "name": "ipython",
    "version": 3
   },
   "file_extension": ".py",
   "mimetype": "text/x-python",
   "name": "python",
   "nbconvert_exporter": "python",
   "pygments_lexer": "ipython3",
   "version": "3.7.4"
  },
  "orig_nbformat": 4
 },
 "nbformat": 4,
 "nbformat_minor": 2
}
