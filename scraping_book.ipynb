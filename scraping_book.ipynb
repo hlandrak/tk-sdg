{
 "cells": [
  {
   "cell_type": "markdown",
   "metadata": {},
   "source": [
    "# Basic imports"
   ]
  },
  {
   "cell_type": "code",
   "execution_count": null,
   "metadata": {},
   "outputs": [],
   "source": [
    "import re\n",
    "import pdfplumber\n",
    "from spacy.lang.nb import Norwegian\n",
    "import spacy"
   ]
  },
  {
   "cell_type": "markdown",
   "metadata": {},
   "source": [
    "# Helper functions"
   ]
  },
  {
   "cell_type": "code",
   "execution_count": null,
   "metadata": {},
   "outputs": [],
   "source": [
    "def pdfToText(fileName):\n",
    "    all_text = \"\"\n",
    "    with pdfplumber.open(fileName) as pdf:\n",
    "        for page in pdf.pages:\n",
    "            all_text += page.extract_text()\n",
    "    # print(all_text)\n",
    "    all_text = re.sub('\\s', ' ', all_text)\n",
    "    # print(all_text)\n",
    "    return all_text\n",
    "\n",
    "regPlan = pdfToText('regional-planstrategi-2016-2010.pdf')\n",
    "kirkepol = pdfToText('050200-sak-kommunens-kirkepolitikk.pdf')\n",
    "smabathavn = pdfToText('kommunedelplan-for-smabathavner-2007-2017.pdf')\n",
    "kultur = pdfToText('strategiplan-kultur-web.pdf')\n",
    "havbruk = pdfToText(\"havbruk.pdf\")"
   ]
  },
  {
   "cell_type": "code",
   "execution_count": null,
   "metadata": {},
   "outputs": [],
   "source": [
    "def txtToStr(filename):\n",
    "    f = open(filename, 'r')\n",
    "    textLines = f.readlines()\n",
    "    text = \"\"\n",
    "    for line in textLines:\n",
    "        text += line\n",
    "    text = re.sub('\\s', ' ', text)\n",
    "    return text\n",
    "\n",
    "brautTxt = txtToStr(\"braut.txt\")\n",
    "byplanWiki = txtToStr(\"byplanleggingWiki.txt\")"
   ]
  },
  {
   "cell_type": "markdown",
   "metadata": {},
   "source": [
    "# Scraping\n",
    "\n",
    "No need to run if \"sdg#.txt\" in \"sdgs\" folder is present."
   ]
  },
  {
   "cell_type": "code",
   "execution_count": null,
   "metadata": {},
   "outputs": [],
   "source": [
    "# Scraping imports and inits\n",
    "from selenium import webdriver\n",
    "from webdriver_manager.chrome import ChromeDriverManager\n",
    "driver = webdriver.Chrome(ChromeDriverManager().install())\n",
    "from bs4 import BeautifulSoup as BS"
   ]
  },
  {
   "cell_type": "code",
   "execution_count": null,
   "metadata": {},
   "outputs": [],
   "source": [
    "# Scraping sdgs from FN.\n",
    "sdgs = []\n",
    "driver.get(\"https://www.fn.no/om-fn/fns-baerekraftsmaal\")\n",
    "soup = BS(driver.page_source, features=\"html.parser\")\n",
    "title_cards = soup.find_all(class_=\"header_gols_content_item\")\n",
    "for card in title_cards:\n",
    "    a = card.find(\"a\", href=True)\n",
    "    sdgs.append(a[\"href\"])\n",
    "print(sdgs)\n",
    "i = 1\n",
    "for sdg in sdgs:\n",
    "    driver.get(f\"https://www.fn.no/{sdg}\")\n",
    "    soup = BS(driver.page_source, features=\"html.parser\")\n",
    "    paragraphs = soup.find_all(\"p\")\n",
    "    f = open(f'sdgs/sdg{i}.txt', 'w')\n",
    "    for par in paragraphs:\n",
    "        line = par.text.strip()\n",
    "        line = line.replace('...', '')\n",
    "        line = line.replace('&aelig;', 'æ')\n",
    "        if len(line) > 0:\n",
    "            if not line[-1] in \".?!:)\":\n",
    "                line += '.'\n",
    "            f.write(f'{line}\\n')\n",
    "    f.close()\n",
    "    i += 1"
   ]
  },
  {
   "cell_type": "markdown",
   "metadata": {},
   "source": [
    "# Predicting"
   ]
  },
  {
   "cell_type": "code",
   "execution_count": null,
   "metadata": {},
   "outputs": [],
   "source": [
    "def similarityText(mainStr, searchStr):\n",
    "    \"\"\"\n",
    "    Return spacy similatiry based on vector in nb_core_news_lg.\n",
    "    \"\"\"\n",
    "    nlp = spacy.load(\"nb_core_news_lg\")\n",
    "\n",
    "    mainDoc = nlp(mainStr)\n",
    "    searchDoc = nlp(searchStr)\n",
    "\n",
    "    mainTokenized = nlp(' '.join([str(token.lemma_) for token in mainDoc if not token.is_stop and not token.is_punct and not token.is_space]))\n",
    "    searchTokenized = nlp(' '.join([str(token.lemma_) for token in searchDoc if not token.is_stop and not token.is_punct and not token.is_space]))\n",
    "    # print(mainTokenized)\n",
    "    # print(searchTokenized)\n",
    "    return mainTokenized.similarity(searchTokenized)"
   ]
  },
  {
   "cell_type": "code",
   "execution_count": null,
   "metadata": {},
   "outputs": [],
   "source": [
    "def sdgSimilatiry(string):\n",
    "    \"\"\"\n",
    "    Print and return similarity of string to all SDGs.\n",
    "    \"\"\"\n",
    "    valueList = []\n",
    "    for sdg in range(17):\n",
    "        value = similarityText(string, txtToStr(f\"sdgs/sdg{sdg+1}.txt\"))\n",
    "        print(f\"SDG #{sdg+1} has this similarity to your string: {value}\")\n",
    "        valueList.append(value)\n",
    "    return valueList"
   ]
  },
  {
   "cell_type": "code",
   "execution_count": null,
   "metadata": {},
   "outputs": [],
   "source": [
    "def addSdgVector(str, name):\n",
    "    \"\"\"\n",
    "    Add similarity results to sdgVector.\n",
    "    \"\"\"\n",
    "    return sdgSimilatiry(str)"
   ]
  },
  {
   "cell_type": "code",
   "execution_count": null,
   "metadata": {},
   "outputs": [],
   "source": [
    "# for documentation see: https://www.kaggle.com/satishgunjal/tutorial-text-classification-using-spacy\n",
    "import string\n",
    "nlp = spacy.load(\"nb_core_news_lg\")\n",
    "parser = Norwegian()\n",
    "punctuations = string.punctuation\n",
    "stop_words = spacy.lang.nb.stop_words.STOP_WORDS\n",
    "def spacy_tokenizer(sentence):\n",
    "    \"\"\"This function will accepts a sentence as input and processes the sentence into tokens, performing lemmatization, \n",
    "    lowercasing, removing stop words and punctuations.\"\"\"\n",
    "    \n",
    "    # Creating our token object which is used to create documents with linguistic annotations\n",
    "    mytokens = nlp(sentence)\n",
    "    \n",
    "    # lemmatizing each token and converting each token in lower case\n",
    "    # Note that spaCy uses '-PRON-' as lemma for all personal pronouns lkike me, I etc\n",
    "    mytokens = [ word.lemma_.lower().strip() if word.lemma_ != \"-PRON-\" else word.lower_ for word in mytokens ]\n",
    "    \n",
    "    # Removing stop words\n",
    "    mytokens = [ word for word in mytokens if word not in stop_words and word not in punctuations]\n",
    "    # Return preprocessed list of tokens\n",
    "    return mytokens  "
   ]
  },
  {
   "cell_type": "code",
   "execution_count": null,
   "metadata": {},
   "outputs": [],
   "source": [
    "from sklearn.base import TransformerMixin\n",
    "from sklearn.pipeline import Pipeline\n",
    "\n",
    "class predictors(TransformerMixin):\n",
    "    def transform(self, X, **transform_params):\n",
    "        \"\"\"Override the transform method to clean text\"\"\"\n",
    "        return [clean_text(text) for text in X]\n",
    "    \n",
    "    def fit(self, X, y= None, **fit_params):\n",
    "        return self\n",
    "    \n",
    "    def get_params(self, deep= True):\n",
    "        return {}\n",
    "\n",
    "# Basic function to clean the text\n",
    "def clean_text(text):\n",
    "    \"\"\"Removing spaces and converting the text into lowercase\"\"\"\n",
    "    return text.strip().lower()"
   ]
  },
  {
   "cell_type": "code",
   "execution_count": null,
   "metadata": {},
   "outputs": [],
   "source": [
    "from sklearn.feature_extraction.text import TfidfVectorizer\n",
    "tfidfVector = TfidfVectorizer(tokenizer=spacy_tokenizer)"
   ]
  },
  {
   "cell_type": "code",
   "execution_count": null,
   "metadata": {},
   "outputs": [],
   "source": [
    "# Creating trainingdata for classifying SDGs\n",
    "X_train = []\n",
    "y_train = []\n",
    "for i in range(17):\n",
    "    f = open(f'sdgs/sdg{i+1}.txt')\n",
    "    for line in f:\n",
    "        line = re.sub('\\s', ' ', line)\n",
    "        X_train.append(line)\n",
    "        y_train.append(i+1)"
   ]
  },
  {
   "cell_type": "code",
   "execution_count": null,
   "metadata": {},
   "outputs": [],
   "source": [
    "from sklearn.linear_model import LogisticRegression                 "
   ]
  },
  {
   "cell_type": "code",
   "execution_count": null,
   "metadata": {},
   "outputs": [],
   "source": [
    "X_test = [kirkepol, regPlan, kultur, havbruk]"
   ]
  },
  {
   "cell_type": "code",
   "execution_count": null,
   "metadata": {},
   "outputs": [],
   "source": [
    "def tfidfModel(trainingData, testData):\n",
    "    \"\"\"\n",
    "    Return predicted probabilities for Pipeline (pipe).\n",
    "    \"\"\"\n",
    "    # Create pipeline using Tf-idf\n",
    "    pipe = Pipeline ([(\"cleaner\", predictors()),\n",
    "                 (\"vectorizer\", tfidfVector),\n",
    "                 (\"classifier\", LogisticRegression(multi_class='ovr', solver='liblinear'))])\n",
    "\n",
    "    pipe.fit(trainingData[0], trainingData[1])\n",
    "\n",
    "    predicted = pipe.predict_proba(testData)\n",
    "    return predicted"
   ]
  },
  {
   "cell_type": "markdown",
   "metadata": {},
   "source": [
    "# Wiki"
   ]
  },
  {
   "cell_type": "code",
   "execution_count": null,
   "metadata": {},
   "outputs": [],
   "source": [
    "import wikiscraper as ws"
   ]
  },
  {
   "cell_type": "code",
   "execution_count": null,
   "metadata": {},
   "outputs": [],
   "source": [
    "ws.lang(\"no\")"
   ]
  },
  {
   "cell_type": "code",
   "execution_count": null,
   "metadata": {},
   "outputs": [],
   "source": [
    "abstractList = []\n",
    "with open(\"randWiki.txt\", \"a\") as file:\n",
    "    for i in range(1000):\n",
    "        result = ws.searchBySlug(\"Spesial:Tilfeldig\")\n",
    "        try:\n",
    "            abstractList = result.getAbstract()\n",
    "            for par in abstractList:\n",
    "                if not \"[rediger | rediger kilde]\" in par:\n",
    "                    file.write(par + \"\\n\")\n",
    "        except:\n",
    "            pass"
   ]
  },
  {
   "cell_type": "markdown",
   "metadata": {},
   "source": [
    "# NLP2"
   ]
  },
  {
   "cell_type": "code",
   "execution_count": null,
   "metadata": {},
   "outputs": [],
   "source": [
    "X_train2 = []\n",
    "y_train2 = []\n",
    "for i in range(17):\n",
    "    with open(f'sdgs/sdg{i+1}.txt', 'r') as f:\n",
    "        for line in f:\n",
    "            line = re.sub('\\s', ' ', line)\n",
    "            X_train2.append(line)\n",
    "            y_train2.append(0)\n",
    "\n",
    "with open('randWiki.txt', 'r') as f:\n",
    "    for line in f:\n",
    "        line = re.sub('\\s', ' ', line)\n",
    "        X_train2.append(line)\n",
    "        y_train2.append(1)\n"
   ]
  },
  {
   "cell_type": "code",
   "execution_count": null,
   "metadata": {},
   "outputs": [],
   "source": [
    "baerBool = tfidfModel([X_train2, y_train2], X_test)\n",
    "sdgPredictions = tfidfModel([X_train, y_train], X_test)"
   ]
  },
  {
   "cell_type": "code",
   "execution_count": null,
   "metadata": {},
   "outputs": [],
   "source": [
    "sdgPredictionsMult = sdgPredictions*17\n",
    "# print(sdgPredictionsMult)"
   ]
  },
  {
   "cell_type": "code",
   "execution_count": null,
   "metadata": {},
   "outputs": [],
   "source": [
    "for i in range(len(sdgPredictionsMult)):\n",
    "    sdgPredictionsMult[i] = sdgPredictionsMult[i]*baerBool[i][0]\n",
    "# print(sdgPredictionsMult)\n",
    "    "
   ]
  },
  {
   "cell_type": "code",
   "execution_count": null,
   "metadata": {},
   "outputs": [],
   "source": [
    "import matplotlib.pyplot as plt\n",
    "\n",
    "def sdgList(predictions, threshold):\n",
    "    sdgTrue = 17*[0]\n",
    "    for i in range(17):\n",
    "        if predictions[i] > 1:\n",
    "            sdgTrue[i] = 1\n",
    "        elif predictions[i] - threshold > 0:\n",
    "            sdgTrue[i] = (predictions[i] - threshold) / (1 - threshold)\n",
    "        else:\n",
    "            sdgTrue[i] = 0\n",
    "    return sdgTrue\n",
    "sdgNames = []\n",
    "for i in range(17):\n",
    "    sdgNames.append(i+1)\n",
    "for doku in sdgPredictionsMult:\n",
    "    print(sdgList(doku, 0.8))\n",
    "    plt.figure()\n",
    "    plt.ylim([0,1])\n",
    "    plt.bar(sdgNames, sdgList(doku, 0.8), 0.7)\n",
    "    plt.xticks(sdgNames)\n",
    "    plt.show()\n"
   ]
  },
  {
   "cell_type": "code",
   "execution_count": 133,
   "metadata": {},
   "outputs": [
    {
     "data": {
      "image/png": "[encoded data removed]",
      "text/plain": [
       "<Figure size 432x288 with 1 Axes>"
      ]
     },
     "metadata": {
      "needs_background": "light"
     },
     "output_type": "display_data"
    }
   ],
   "source": [
    "def plotTestTextPredictions(testText):\n",
    "    barekraftBool = tfidfModel([X_train2, y_train2], testText)\n",
    "    sdgPredictions = tfidfModel([X_train, y_train], testText)\n",
    "    sdgPredictionsMult = sdgPredictions*17\n",
    "    for i in range(len(sdgPredictionsMult)):\n",
    "        sdgPredictionsMult[i] = sdgPredictionsMult[i] * barekraftBool[i][0]\n",
    "    sdgNames = []\n",
    "    for i in range(17):\n",
    "        sdgNames.append(i+1)\n",
    "    for doku in sdgPredictionsMult:\n",
    "        # print(sdgList(doku, 0.8))\n",
    "        plt.figure()\n",
    "        plt.ylim([0,1])\n",
    "        plt.bar(sdgNames, sdgList(doku, 0.8), 0.7)\n",
    "        plt.xticks(sdgNames)\n",
    "        plt.show()\n",
    "\n",
    "psykiskHelse = pdfToText(\"pdfs/psykiskhelseogrusplan.pdf\")\n",
    "plotTestTextPredictions([psykiskHelse])"
   ]
  },
  {
   "cell_type": "code",
   "execution_count": 134,
   "metadata": {},
   "outputs": [
    {
     "data": {
      "image/png": "[encoded data removed]",
      "text/plain": [
       "<Figure size 432x288 with 1 Axes>"
      ]
     },
     "metadata": {
      "needs_background": "light"
     },
     "output_type": "display_data"
    }
   ],
   "source": [
    "fattigdomGammel = pdfToText(\"pdfs/temaplan-for-arbeid-mot-fattigdom.pdf\")\n",
    "plotTestTextPredictions([fattigdomGammel])"
   ]
  },
  {
   "cell_type": "code",
   "execution_count": 136,
   "metadata": {},
   "outputs": [
    {
     "data": {
      "image/png": "[encoded data removed]",
      "text/plain": [
       "<Figure size 432x288 with 1 Axes>"
      ]
     },
     "metadata": {
      "needs_background": "light"
     },
     "output_type": "display_data"
    }
   ],
   "source": [
    "kvalKlubb = pdfToText(\"pdfs/bettinak,+{$userGroup},+R-18-2-SAM.pdf\")\n",
    "plotTestTextPredictions([kvalKlubb])"
   ]
  }
 ],
 "metadata": {
  "interpreter": {
   "hash": "aee8b7b246df8f9039afb4144a1f6fd8d2ca17a180786b69acc140d282b71a49"
  },
  "kernelspec": {
   "display_name": "Python 3.7.4 64-bit",
   "language": "python",
   "name": "python3"
  },
  "language_info": {
   "codemirror_mode": {
    "name": "ipython",
    "version": 3
   },
   "file_extension": ".py",
   "mimetype": "text/x-python",
   "name": "python",
   "nbconvert_exporter": "python",
   "pygments_lexer": "ipython3",
   "version": "3.7.4"
  },
  "orig_nbformat": 4
 },
 "nbformat": 4,
 "nbformat_minor": 2
}
